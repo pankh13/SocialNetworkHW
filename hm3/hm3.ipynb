{
 "cells": [
  {
   "cell_type": "code",
   "execution_count": 17,
   "metadata": {},
   "outputs": [],
   "source": [
    "import pandas as pd\n",
    "import numpy as np"
   ]
  },
  {
   "cell_type": "code",
   "execution_count": 18,
   "metadata": {},
   "outputs": [],
   "source": [
    "with open(\"ratemd.25k.all.txt\") as f:\n",
    "    file = f.read()"
   ]
  },
  {
   "cell_type": "markdown",
   "metadata": {},
   "source": [
    "# Task 1"
   ]
  },
  {
   "cell_type": "code",
   "execution_count": 19,
   "metadata": {},
   "outputs": [],
   "source": [
    "data = []\n",
    "file = file.strip()\n",
    "for i in file.split(\"\\n\"):\n",
    "    temp = i.split(\"\\t\")\n",
    "    if len(temp) == 4:\n",
    "        data.append(temp)\n",
    "    elif len(temp) == 2:\n",
    "        data[len(data)-1].append(temp)\n",
    "    else:\n",
    "        print(temp)\n",
    "        raise ValueError('Wrong Length!')"
   ]
  },
  {
   "cell_type": "code",
   "execution_count": 20,
   "metadata": {},
   "outputs": [],
   "source": [
    "data = pd.DataFrame(columns=['name','gender','location','special','rating','review'])"
   ]
  },
  {
   "cell_type": "code",
   "execution_count": 21,
   "metadata": {},
   "outputs": [],
   "source": [
    "file = file.strip()\n",
    "info = None\n",
    "data = pd.DataFrame(columns=['name','gender','location','special','rating','review'])\n",
    "\n",
    "for i in file.split(\"\\n\"):\n",
    "    temp = i.split(\" \\t \")\n",
    "    if len(temp) == 4:\n",
    "        info = temp\n",
    "    elif len(temp) == 2:\n",
    "        temp[0] = float(temp[0].split(\":\")[1])\n",
    "        data = data.append(dict(zip(['name','gender','location','special','rating','review'],info+temp)),\\\n",
    "                    ignore_index=True)\n",
    "    else:\n",
    "        print(temp)\n",
    "        raise ValueError('Wrong Length!')"
   ]
  },
  {
   "cell_type": "code",
   "execution_count": 22,
   "metadata": {},
   "outputs": [],
   "source": [
    "data[\"length\"] = data.apply(lambda x: len(x.review.split(\" \")), axis=1)"
   ]
  },
  {
   "cell_type": "code",
   "execution_count": 23,
   "metadata": {},
   "outputs": [],
   "source": [
    "data[\"sentiment\"] = data.rating >= 4"
   ]
  },
  {
   "cell_type": "code",
   "execution_count": 24,
   "metadata": {
    "scrolled": false
   },
   "outputs": [
    {
     "data": {
      "text/html": [
       "<div>\n",
       "<style scoped>\n",
       "    .dataframe tbody tr th:only-of-type {\n",
       "        vertical-align: middle;\n",
       "    }\n",
       "\n",
       "    .dataframe tbody tr th {\n",
       "        vertical-align: top;\n",
       "    }\n",
       "\n",
       "    .dataframe thead th {\n",
       "        text-align: right;\n",
       "    }\n",
       "</style>\n",
       "<table border=\"1\" class=\"dataframe\">\n",
       "  <thead>\n",
       "    <tr style=\"text-align: right;\">\n",
       "      <th></th>\n",
       "      <th>rating</th>\n",
       "      <th>length</th>\n",
       "    </tr>\n",
       "  </thead>\n",
       "  <tbody>\n",
       "    <tr>\n",
       "      <th>count</th>\n",
       "      <td>20421.000000</td>\n",
       "      <td>20421.000000</td>\n",
       "    </tr>\n",
       "    <tr>\n",
       "      <th>mean</th>\n",
       "      <td>3.741528</td>\n",
       "      <td>62.998531</td>\n",
       "    </tr>\n",
       "    <tr>\n",
       "      <th>std</th>\n",
       "      <td>1.480634</td>\n",
       "      <td>60.164758</td>\n",
       "    </tr>\n",
       "    <tr>\n",
       "      <th>min</th>\n",
       "      <td>0.750000</td>\n",
       "      <td>1.000000</td>\n",
       "    </tr>\n",
       "    <tr>\n",
       "      <th>25%</th>\n",
       "      <td>2.250000</td>\n",
       "      <td>22.000000</td>\n",
       "    </tr>\n",
       "    <tr>\n",
       "      <th>50%</th>\n",
       "      <td>4.500000</td>\n",
       "      <td>45.000000</td>\n",
       "    </tr>\n",
       "    <tr>\n",
       "      <th>75%</th>\n",
       "      <td>5.000000</td>\n",
       "      <td>85.000000</td>\n",
       "    </tr>\n",
       "    <tr>\n",
       "      <th>max</th>\n",
       "      <td>5.000000</td>\n",
       "      <td>899.000000</td>\n",
       "    </tr>\n",
       "  </tbody>\n",
       "</table>\n",
       "</div>"
      ],
      "text/plain": [
       "             rating        length\n",
       "count  20421.000000  20421.000000\n",
       "mean       3.741528     62.998531\n",
       "std        1.480634     60.164758\n",
       "min        0.750000      1.000000\n",
       "25%        2.250000     22.000000\n",
       "50%        4.500000     45.000000\n",
       "75%        5.000000     85.000000\n",
       "max        5.000000    899.000000"
      ]
     },
     "execution_count": 24,
     "metadata": {},
     "output_type": "execute_result"
    }
   ],
   "source": [
    "data.describe()"
   ]
  },
  {
   "cell_type": "code",
   "execution_count": 25,
   "metadata": {},
   "outputs": [
    {
     "data": {
      "text/plain": [
       "(20421, 8)"
      ]
     },
     "execution_count": 25,
     "metadata": {},
     "output_type": "execute_result"
    }
   ],
   "source": [
    "data.shape"
   ]
  },
  {
   "cell_type": "code",
   "execution_count": 26,
   "metadata": {},
   "outputs": [
    {
     "data": {
      "text/html": [
       "<div>\n",
       "<style scoped>\n",
       "    .dataframe tbody tr th:only-of-type {\n",
       "        vertical-align: middle;\n",
       "    }\n",
       "\n",
       "    .dataframe tbody tr th {\n",
       "        vertical-align: top;\n",
       "    }\n",
       "\n",
       "    .dataframe thead th {\n",
       "        text-align: right;\n",
       "    }\n",
       "</style>\n",
       "<table border=\"1\" class=\"dataframe\">\n",
       "  <thead>\n",
       "    <tr style=\"text-align: right;\">\n",
       "      <th></th>\n",
       "      <th>name</th>\n",
       "      <th>gender</th>\n",
       "      <th>location</th>\n",
       "      <th>special</th>\n",
       "      <th>rating</th>\n",
       "      <th>review</th>\n",
       "      <th>length</th>\n",
       "      <th>sentiment</th>\n",
       "    </tr>\n",
       "  </thead>\n",
       "  <tbody>\n",
       "    <tr>\n",
       "      <th>6</th>\n",
       "      <td>Dr. David H. Liem</td>\n",
       "      <td>Male</td>\n",
       "      <td>Downey, CA</td>\n",
       "      <td>Emergency Room Doctor</td>\n",
       "      <td>3.00</td>\n",
       "      <td></td>\n",
       "      <td>1</td>\n",
       "      <td>False</td>\n",
       "    </tr>\n",
       "    <tr>\n",
       "      <th>16</th>\n",
       "      <td>Dr. Jamie L. Mcginness</td>\n",
       "      <td>Male</td>\n",
       "      <td>Springfield, IL</td>\n",
       "      <td>Dermatologist</td>\n",
       "      <td>4.75</td>\n",
       "      <td></td>\n",
       "      <td>1</td>\n",
       "      <td>True</td>\n",
       "    </tr>\n",
       "    <tr>\n",
       "      <th>33</th>\n",
       "      <td>Dr. Michael S. Mcnevin</td>\n",
       "      <td>Male</td>\n",
       "      <td>Spokane, WA</td>\n",
       "      <td>Surgeon (general)</td>\n",
       "      <td>3.50</td>\n",
       "      <td></td>\n",
       "      <td>1</td>\n",
       "      <td>False</td>\n",
       "    </tr>\n",
       "    <tr>\n",
       "      <th>47</th>\n",
       "      <td>Dr. Amer Salhadar</td>\n",
       "      <td>Male</td>\n",
       "      <td>Brownsville, TX</td>\n",
       "      <td>Cardiologist</td>\n",
       "      <td>3.25</td>\n",
       "      <td></td>\n",
       "      <td>1</td>\n",
       "      <td>False</td>\n",
       "    </tr>\n",
       "    <tr>\n",
       "      <th>86</th>\n",
       "      <td>Dr. Evelina Bernardino</td>\n",
       "      <td>Female</td>\n",
       "      <td>Langhorne, PA</td>\n",
       "      <td>Dermatologist</td>\n",
       "      <td>3.75</td>\n",
       "      <td></td>\n",
       "      <td>1</td>\n",
       "      <td>False</td>\n",
       "    </tr>\n",
       "  </tbody>\n",
       "</table>\n",
       "</div>"
      ],
      "text/plain": [
       "                      name  gender         location                special  \\\n",
       "6        Dr. David H. Liem    Male       Downey, CA  Emergency Room Doctor   \n",
       "16  Dr. Jamie L. Mcginness    Male  Springfield, IL          Dermatologist   \n",
       "33  Dr. Michael S. Mcnevin    Male      Spokane, WA      Surgeon (general)   \n",
       "47       Dr. Amer Salhadar    Male  Brownsville, TX           Cardiologist   \n",
       "86  Dr. Evelina Bernardino  Female    Langhorne, PA          Dermatologist   \n",
       "\n",
       "    rating review  length  sentiment  \n",
       "6     3.00              1      False  \n",
       "16    4.75              1       True  \n",
       "33    3.50              1      False  \n",
       "47    3.25              1      False  \n",
       "86    3.75              1      False  "
      ]
     },
     "execution_count": 26,
     "metadata": {},
     "output_type": "execute_result"
    }
   ],
   "source": [
    "data[data.length==1].head()"
   ]
  },
  {
   "cell_type": "code",
   "execution_count": 27,
   "metadata": {},
   "outputs": [],
   "source": [
    "import seaborn as sns\n",
    "%matplotlib inline\n",
    "sns.set()"
   ]
  },
  {
   "cell_type": "code",
   "execution_count": 28,
   "metadata": {},
   "outputs": [
    {
     "data": {
      "text/plain": [
       "<matplotlib.axes._subplots.AxesSubplot at 0x7fa13ad38f98>"
      ]
     },
     "execution_count": 28,
     "metadata": {},
     "output_type": "execute_result"
    },
    {
     "data": {
      "image/png": "[encoded data removed]",
      "text/plain": [
       "<matplotlib.figure.Figure at 0x7fa12ac31080>"
      ]
     },
     "metadata": {},
     "output_type": "display_data"
    }
   ],
   "source": [
    "sns.distplot(data.length)"
   ]
  },
  {
   "cell_type": "code",
   "execution_count": 29,
   "metadata": {
    "scrolled": true
   },
   "outputs": [
    {
     "name": "stdout",
     "output_type": "stream",
     "text": [
      "name         9877\n",
      "gender       9877\n",
      "location     9877\n",
      "special      9877\n",
      "rating       9877\n",
      "review       9877\n",
      "length       9877\n",
      "sentiment    9877\n",
      "dtype: int64\n"
     ]
    }
   ],
   "source": [
    "print(data[(data.gender == \"Male\") & (data.sentiment) ].count())"
   ]
  },
  {
   "cell_type": "markdown",
   "metadata": {},
   "source": [
    "# Task 2 \n",
    "## Problem 1"
   ]
  },
  {
   "cell_type": "code",
   "execution_count": 33,
   "metadata": {},
   "outputs": [],
   "source": [
    "from nltk.tokenize import word_tokenize\n",
    "from nltk.corpus import stopwords\n",
    "from nltk.stem import WordNetLemmatizer\n",
    "from gensim import corpora\n",
    "from gensim.models.ldamodel import LdaModel\n",
    "import re, string\n",
    "\n",
    "stop_words = set(stopwords.words('english'))"
   ]
  },
  {
   "cell_type": "code",
   "execution_count": 31,
   "metadata": {},
   "outputs": [],
   "source": [
    "def clean(doc):\n",
    "    tokenized = word_tokenize(doc.lower())\n",
    "    stop_free = [x for x in tokenized if not re.fullmatch('[' + string.punctuation + ']+', x) \\\n",
    "                 and x not in stop_words]\n",
    "    y = [s for s in stop_free if len(s) > 2]\n",
    "    return y\n",
    "\n",
    "\n",
    "def lda_wo_lm(k):\n",
    "    doc_list = [i for i in list(data.review) if len(i.strip())!=0]\n",
    "    stop_words = set(stopwords.words('english'))\n",
    "    corpus_clean = [clean(doc.strip()) for doc in doc_list]\n",
    "    dictionary = corpora.Dictionary(corpus_clean)\n",
    "    corpus = [dictionary.doc2bow(doc_clean) for doc_clean in corpus_clean]\n",
    "    new_corpus = []\n",
    "    for doc in corpus:\n",
    "        new_list = []\n",
    "        for word_count in doc:\n",
    "            if word_count[1] > 4:\n",
    "                new_list.append(word_count)\n",
    "        new_corpus.append(new_list)\n",
    "    corpus = new_corpus\n",
    "    ldamodel = LdaModel(corpus, num_topics=k, id2word = dictionary, passes=20, iterations=2000)\n",
    "    return ldamodel.print_topics(num_topics=k, num_words=10)"
   ]
  },
  {
   "cell_type": "code",
   "execution_count": 34,
   "metadata": {
    "scrolled": true
   },
   "outputs": [],
   "source": [
    "p1 = lda_wo_lm(10)"
   ]
  },
  {
   "cell_type": "code",
   "execution_count": 35,
   "metadata": {},
   "outputs": [
    {
     "data": {
      "text/plain": [
       "[(0,\n",
       "  '0.010*\"patient\" + 0.009*\"asked\" + 0.009*\"could\" + 0.006*\"hand\" + 0.006*\"never\" + 0.004*\"problem\" + 0.003*\"even\" + 0.003*\"tip\" + 0.003*\"called\" + 0.003*\"bill\"'),\n",
       " (1,\n",
       "  '0.036*\"told\" + 0.012*\"test\" + 0.009*\"father\" + 0.008*\"procedure\" + 0.007*\"first\" + 0.006*\"skin\" + 0.004*\"family\" + 0.004*\"woman\" + 0.004*\"arm\" + 0.003*\"pap\"'),\n",
       " (2,\n",
       "  '0.024*\"son\" + 0.023*\"said\" + 0.011*\"call\" + 0.009*\"mother\" + 0.006*\"goodman\" + 0.005*\"eye\" + 0.005*\"flu\" + 0.004*\"physical\" + 0.004*\"one\" + 0.004*\"steroids\"'),\n",
       " (3,\n",
       "  '0.083*\"surgery\" + 0.041*\"pain\" + 0.036*\"would\" + 0.008*\"breast\" + 0.005*\"dad\" + 0.003*\"surgeon\" + 0.003*\"\\'ve\" + 0.003*\"clinic\" + 0.002*\"knee\" + 0.002*\"ask\"'),\n",
       " (4,\n",
       "  '0.102*\"doctor\" + 0.023*\"husband\" + 0.012*\"schwartz\" + 0.008*\"daughter\" + 0.008*\"get\" + 0.004*\"visit\" + 0.003*\"therapy\" + 0.003*\"patel\" + 0.003*\"evan\" + 0.002*\"dr.shakiba\"'),\n",
       " (5,\n",
       "  '0.215*\"dr.\" + 0.015*\"shakiba\" + 0.006*\"pasquale\" + 0.005*\"hollie\" + 0.005*\"rivadeneira\" + 0.005*\"dyer\" + 0.004*\"kolb\" + 0.003*\"comeau\" + 0.003*\"kurtz\" + 0.003*\"germin\"'),\n",
       " (6,\n",
       "  '0.022*\"appointment\" + 0.012*\"see\" + 0.007*\"exam\" + 0.007*\"back\" + 0.004*\"lopez\" + 0.004*\"child\" + 0.004*\"room\" + 0.004*\"routine\" + 0.003*\"ever\" + 0.003*\"body\"'),\n",
       " (7,\n",
       "  '0.055*\"office\" + 0.022*\"insurance\" + 0.017*\"staff\" + 0.007*\"doc\" + 0.006*\"really\" + 0.006*\"cancer\" + 0.006*\"wife\" + 0.004*\"code\" + 0.004*\"kwant\" + 0.003*\"company\"'),\n",
       " (8,\n",
       "  '0.131*\"n\\'t\" + 0.029*\"time\" + 0.004*\"nurse\" + 0.004*\"mckay\" + 0.004*\"patients\" + 0.004*\"always\" + 0.003*\"medication\" + 0.003*\"techs\" + 0.003*\"waiting\" + 0.002*\"simponi\"'),\n",
       " (9,\n",
       "  '0.013*\"tooth\" + 0.009*\"like\" + 0.008*\"nose\" + 0.008*\"thyroid\" + 0.007*\"best\" + 0.006*\"went\" + 0.005*\"hip\" + 0.004*\"cavity\" + 0.004*\"germin\" + 0.003*\"results\"')]"
      ]
     },
     "execution_count": 35,
     "metadata": {},
     "output_type": "execute_result"
    }
   ],
   "source": [
    "p1"
   ]
  },
  {
   "cell_type": "markdown",
   "metadata": {},
   "source": [
    "# Task 2\n",
    "## Problem 2"
   ]
  },
  {
   "cell_type": "code",
   "execution_count": 42,
   "metadata": {},
   "outputs": [],
   "source": [
    "def clean_lm(doc):\n",
    "    tokenized = word_tokenize(doc.lower())\n",
    "    stop_free = [x for x in tokenized if not re.fullmatch('[' + string.punctuation + ']+', x) \\\n",
    "                 and x not in stop_words]\n",
    "    lemmatizer = WordNetLemmatizer()\n",
    "    lemma_verb = [lemmatizer.lemmatize(word,'v') for word in stop_free]\n",
    "    lemma_noun = [lemmatizer.lemmatize(word,'n') for word in lemma_verb]\n",
    "    y = [s for s in stop_free if len(s) > 2]\n",
    "    return y\n",
    "\n",
    "def lda(k):\n",
    "    doc_list = [i for i in list(data.review) if len(i.strip())!=0]\n",
    "    lemmatizer = WordNetLemmatizer()\n",
    "    corpus_clean = [clean_lm(doc.strip()) for doc in doc_list]\n",
    "    dictionary = corpora.Dictionary(corpus_clean)\n",
    "    corpus = [dictionary.doc2bow(doc_clean) for doc_clean in corpus_clean]\n",
    "\n",
    "    new_corpus = []\n",
    "    for doc in corpus:\n",
    "        new_list = []\n",
    "        for word_count in doc:\n",
    "            if word_count[1] > 4:\n",
    "                new_list.append(word_count)\n",
    "        new_corpus.append(new_list)\n",
    "\n",
    "    corpus = new_corpus\n",
    "\n",
    "    ldamodel = LdaModel(corpus, num_topics=k, id2word = dictionary, passes=20, iterations=2000)\n",
    "    \n",
    "    return ldamodel.print_topics(num_topics=k, num_words=10)"
   ]
  },
  {
   "cell_type": "code",
   "execution_count": 43,
   "metadata": {},
   "outputs": [],
   "source": [
    "p2 = lda(10)"
   ]
  },
  {
   "cell_type": "code",
   "execution_count": 44,
   "metadata": {
    "scrolled": true
   },
   "outputs": [
    {
     "name": "stdout",
     "output_type": "stream",
     "text": [
      "[(0, '0.010*\"patient\" + 0.009*\"asked\" + 0.009*\"could\" + 0.006*\"hand\" + 0.006*\"never\" + 0.004*\"problem\" + 0.003*\"even\" + 0.003*\"tip\" + 0.003*\"called\" + 0.003*\"bill\"'), (1, '0.036*\"told\" + 0.012*\"test\" + 0.009*\"father\" + 0.008*\"procedure\" + 0.007*\"first\" + 0.006*\"skin\" + 0.004*\"family\" + 0.004*\"woman\" + 0.004*\"arm\" + 0.003*\"pap\"'), (2, '0.024*\"son\" + 0.023*\"said\" + 0.011*\"call\" + 0.009*\"mother\" + 0.006*\"goodman\" + 0.005*\"eye\" + 0.005*\"flu\" + 0.004*\"physical\" + 0.004*\"one\" + 0.004*\"steroids\"'), (3, '0.083*\"surgery\" + 0.041*\"pain\" + 0.036*\"would\" + 0.008*\"breast\" + 0.005*\"dad\" + 0.003*\"surgeon\" + 0.003*\"\\'ve\" + 0.003*\"clinic\" + 0.002*\"knee\" + 0.002*\"ask\"'), (4, '0.102*\"doctor\" + 0.023*\"husband\" + 0.012*\"schwartz\" + 0.008*\"daughter\" + 0.008*\"get\" + 0.004*\"visit\" + 0.003*\"therapy\" + 0.003*\"patel\" + 0.003*\"evan\" + 0.002*\"dr.shakiba\"'), (5, '0.215*\"dr.\" + 0.015*\"shakiba\" + 0.006*\"pasquale\" + 0.005*\"hollie\" + 0.005*\"rivadeneira\" + 0.005*\"dyer\" + 0.004*\"kolb\" + 0.003*\"comeau\" + 0.003*\"kurtz\" + 0.003*\"germin\"'), (6, '0.022*\"appointment\" + 0.012*\"see\" + 0.007*\"exam\" + 0.007*\"back\" + 0.004*\"lopez\" + 0.004*\"child\" + 0.004*\"room\" + 0.004*\"routine\" + 0.003*\"ever\" + 0.003*\"body\"'), (7, '0.055*\"office\" + 0.022*\"insurance\" + 0.017*\"staff\" + 0.007*\"doc\" + 0.006*\"really\" + 0.006*\"cancer\" + 0.006*\"wife\" + 0.004*\"code\" + 0.004*\"kwant\" + 0.003*\"company\"'), (8, '0.131*\"n\\'t\" + 0.029*\"time\" + 0.004*\"nurse\" + 0.004*\"mckay\" + 0.004*\"patients\" + 0.004*\"always\" + 0.003*\"medication\" + 0.003*\"techs\" + 0.003*\"waiting\" + 0.002*\"simponi\"'), (9, '0.013*\"tooth\" + 0.009*\"like\" + 0.008*\"nose\" + 0.008*\"thyroid\" + 0.007*\"best\" + 0.006*\"went\" + 0.005*\"hip\" + 0.004*\"cavity\" + 0.004*\"germin\" + 0.003*\"results\"')]\n",
      "[(0, '0.046*\"pain\" + 0.022*\"appointment\" + 0.008*\"could\" + 0.006*\"wife\" + 0.006*\"dad\" + 0.003*\"\\'ve\" + 0.002*\"knee\" + 0.002*\"ultrasound\" + 0.002*\"ask\" + 0.002*\"months\"'), (1, '0.037*\"told\" + 0.012*\"test\" + 0.009*\"like\" + 0.007*\"back\" + 0.006*\"never\" + 0.003*\"pap\" + 0.003*\"results\" + 0.002*\"jaller\" + 0.002*\"blomain\" + 0.002*\"fillers\"'), (2, '0.207*\"dr.\" + 0.041*\"office\" + 0.014*\"shakiba\" + 0.006*\"pasquale\" + 0.005*\"hollie\" + 0.005*\"rivadeneira\" + 0.004*\"dyer\" + 0.004*\"kolb\" + 0.003*\"comeau\" + 0.003*\"kurtz\"'), (3, '0.085*\"surgery\" + 0.037*\"would\" + 0.009*\"patient\" + 0.008*\"breast\" + 0.006*\"exam\" + 0.006*\"went\" + 0.004*\"room\" + 0.004*\"surgeon\" + 0.002*\"kakani\" + 0.002*\"comp\"'), (4, '0.023*\"said\" + 0.012*\"tooth\" + 0.012*\"see\" + 0.008*\"get\" + 0.008*\"nose\" + 0.007*\"best\" + 0.007*\"really\" + 0.004*\"physical\" + 0.004*\"therapy\" + 0.004*\"cavity\"'), (5, '0.009*\"mother\" + 0.008*\"procedure\" + 0.007*\"first\" + 0.006*\"medication\" + 0.006*\"skin\" + 0.006*\"eye\" + 0.005*\"flu\" + 0.004*\"problem\" + 0.004*\"family\" + 0.004*\"one\"'), (6, '0.135*\"n\\'t\" + 0.007*\"thyroid\" + 0.005*\"mckay\" + 0.004*\"hip\" + 0.003*\"health\" + 0.003*\"techs\" + 0.002*\"vanessa\" + 0.002*\"simponi\" + 0.002*\"tissue\" + 0.002*\"problems\"'), (7, '0.025*\"son\" + 0.011*\"call\" + 0.009*\"father\" + 0.007*\"doc\" + 0.005*\"visit\" + 0.004*\"lopez\" + 0.004*\"child\" + 0.004*\"goodman\" + 0.004*\"germin\" + 0.003*\"susie\"'), (8, '0.103*\"doctor\" + 0.023*\"husband\" + 0.012*\"schwartz\" + 0.008*\"asked\" + 0.008*\"daughter\" + 0.006*\"cancer\" + 0.003*\"patel\" + 0.003*\"evan\" + 0.002*\"dr.shakiba\" + 0.001*\"kidney\"'), (9, '0.030*\"time\" + 0.022*\"insurance\" + 0.018*\"staff\" + 0.006*\"hand\" + 0.005*\"nurse\" + 0.004*\"patients\" + 0.004*\"always\" + 0.004*\"code\" + 0.004*\"kwant\" + 0.003*\"company\"')]\n"
     ]
    }
   ],
   "source": [
    "print(p1)\n",
    "print(p2)"
   ]
  },
  {
   "cell_type": "code",
   "execution_count": 45,
   "metadata": {
    "scrolled": true
   },
   "outputs": [
    {
     "data": {
      "text/plain": [
       "['patient asked could hand never problem even tip called bill',\n",
       " 'told test father procedure first skin family woman arm pap',\n",
       " 'son said call mother goodman eye flu physical one steroids',\n",
       " \"surgery pain would breast dad surgeon 've clinic knee ask\",\n",
       " 'doctor husband schwartz daughter get visit therapy patel evan dr.shakiba',\n",
       " 'dr. shakiba pasquale hollie rivadeneira dyer kolb comeau kurtz germin',\n",
       " 'appointment see exam back lopez child room routine ever body',\n",
       " 'office insurance staff doc really cancer wife code kwant company',\n",
       " \"n't time nurse mckay patients always medication techs waiting simponi\",\n",
       " 'tooth like nose thyroid best went hip cavity germin results']"
      ]
     },
     "execution_count": 45,
     "metadata": {},
     "output_type": "execute_result"
    }
   ],
   "source": [
    "[\" \".join(i[1].split('\"')[1::2]) for i in p1]"
   ]
  },
  {
   "cell_type": "raw",
   "metadata": {},
   "source": [
    "bill: 'patient asked could hand never problem even tip called bill',\n",
    "skin: 'told test father procedure first skin family woman arm pap',\n",
    "eye: 'son said call mother goodman eye flu physical one steroids',\n",
    "surgery: \"surgery pain would breast dad surgeon 've clinic knee ask\",\n",
    "family: 'doctor husband schwartz daughter get visit therapy patel evan dr.shakiba',\n",
    "non-english (noisy): 'dr. shakiba pasquale hollie rivadeneira dyer kolb comeau kurtz germin',\n",
    "appointment: 'appointment see exam back lopez child room routine ever body',\n",
    "cancer: 'office insurance staff doc really cancer wife code kwant company',\n",
    "medication: \"n't time nurse mckay patients always medication techs waiting simponi\",\n",
    "tooth: 'tooth like nose thyroid best went hip cavity germin results'"
   ]
  },
  {
   "cell_type": "code",
   "execution_count": 46,
   "metadata": {
    "scrolled": false
   },
   "outputs": [
    {
     "data": {
      "text/plain": [
       "[\"pain appointment could wife dad 've knee ultrasound ask months\",\n",
       " 'told test like back never pap results jaller blomain fillers',\n",
       " 'dr. office shakiba pasquale hollie rivadeneira dyer kolb comeau kurtz',\n",
       " 'surgery would patient breast exam went room surgeon kakani comp',\n",
       " 'said tooth see get nose best really physical therapy cavity',\n",
       " 'mother procedure first medication skin eye flu problem family one',\n",
       " \"n't thyroid mckay hip health techs vanessa simponi tissue problems\",\n",
       " 'son call father doc visit lopez child goodman germin susie',\n",
       " 'doctor husband schwartz asked daughter cancer patel evan dr.shakiba kidney',\n",
       " 'time insurance staff hand nurse patients always code kwant company']"
      ]
     },
     "execution_count": 46,
     "metadata": {},
     "output_type": "execute_result"
    }
   ],
   "source": [
    "[\" \".join(i[1].split('\"')[1::2]) for i in p2]"
   ]
  },
  {
   "cell_type": "raw",
   "metadata": {},
   "source": [
    "appointment: \"pain appointment could wife dad 've knee ultrasound ask months\",\n",
    "test: 'told test like back never pap results jaller blomain fillers',\n",
    "non-english(noise) 'dr. office shakiba pasquale hollie rivadeneira dyer kolb comeau kurtz',\n",
    "breast: 'surgery would patient breast exam went room surgeon kakani comp',\n",
    "tooth: 'said tooth see get nose best really physical therapy cavity',\n",
    "medication: 'mother procedure first medication skin eye flu problem family one',\n",
    "thyroid: \"n't thyroid mckay hip health techs vanessa simponi tissue problems\",\n",
    "child: 'son call father doc visit lopez child goodman germin susie',\n",
    "family: 'doctor husband schwartz asked daughter cancer patel evan dr.shakiba kidney',\n",
    "insurance: 'time insurance staff hand nurse patients always code kwant company'"
   ]
  },
  {
   "cell_type": "markdown",
   "metadata": {},
   "source": [
    "# Task 2\n",
    "## Problem 3"
   ]
  },
  {
   "cell_type": "raw",
   "metadata": {},
   "source": [
    "the lemmatized version is a litter better than the one without, but the improvement is marginal in this data set. However the improvement is marginal here, and this might be because the data is too messy and less organized than supposed.  "
   ]
  },
  {
   "cell_type": "markdown",
   "metadata": {},
   "source": [
    "## Extra-credit"
   ]
  },
  {
   "cell_type": "code",
   "execution_count": 47,
   "metadata": {},
   "outputs": [],
   "source": [
    "p3 = lda_wo_lm(20)\n",
    "p4 = lda(20)"
   ]
  },
  {
   "cell_type": "code",
   "execution_count": 48,
   "metadata": {},
   "outputs": [
    {
     "data": {
      "text/plain": [
       "['hand never implants hospital rodas lowe relative sommer colonoscopy vengalil',\n",
       " \"n't appointment asked mckay patients techs medication simponi vanessa tissue\",\n",
       " 'like germin tests even sister need daddy boat excellent feel',\n",
       " 'pain insurance staff kwant company later dollars cover dental drug',\n",
       " 'tooth child steroids cavity body free team moles scars nothing',\n",
       " 'thyroid nurse hip flu waiting problems kids mild moderate emch',\n",
       " 'patient doc exam always lopez room routine medication fillers kim',\n",
       " 'office told test cancer wife code pap maz billing billed',\n",
       " 'dr. time shakiba see pasquale hollie dyer kolb rivadeneira comeau',\n",
       " 'father procedure first skin family one woman urinate bill stockall',\n",
       " 'surgery breast ask rivadeneira clark meadows weeks great long diverticulitis',\n",
       " 'son really goodman health susie saad cashay schoenberg injections school',\n",
       " 'said get physical therapy far people glazer mom atit kraus',\n",
       " 'call nose problem ever called new probst valuable year green',\n",
       " 'doctor husband schwartz daughter patel evan dr.shakiba kakani kidney top',\n",
       " \"would surgeon 've clinic knee cigna comp dearborn maclennan joint\",\n",
       " 'went visit medications jaller mri lab neck raucher pathology already',\n",
       " 'could arm blomain ride ankle diet treatment laser goldhaber lasers',\n",
       " 'back dad eye results lasik hour check birth timson hamersley',\n",
       " 'mother best tip toe done barker sesslar lively barclay nurses']"
      ]
     },
     "execution_count": 48,
     "metadata": {},
     "output_type": "execute_result"
    }
   ],
   "source": [
    "[\" \".join(i[1].split('\"')[1::2]) for i in p3]"
   ]
  },
  {
   "cell_type": "code",
   "execution_count": 49,
   "metadata": {},
   "outputs": [
    {
     "data": {
      "text/plain": [
       "['wife dad always lopez ever need mom bohay kaplan dare',\n",
       " 'would code urinate billing knee comp stockall scope explained corrected',\n",
       " 'mother really one people far hour green year work appt',\n",
       " 'told test call pap results melissa kristensen team check pulmonary',\n",
       " 'never health clinic diet brother injections moles scars neck acupuncture',\n",
       " 'best child even body free fillers blomain sister schoenberg two',\n",
       " \"n't cancer nurse mckay techs simponi tissue vanessa know nexium\",\n",
       " 'time back went patients new ankle records sojourner valuable rude',\n",
       " 'surgery office breast maz ask rivadeneira pharmacy weeks take long',\n",
       " 'nose hip arm ride problems hospital mild meadows redding excellent',\n",
       " 'exam medication hand problem room steroids routine tip kids emch',\n",
       " 'eye visit called waiting lasik implants kim laser bussell lasers',\n",
       " 'tooth doc cavity tests treatment lab apt goldhaber pathology barrett',\n",
       " 'doctor husband schwartz daughter get therapy patel evan dr.shakiba kraus',\n",
       " 'appointment patient could thyroid done ultrasound months labs prescriptions coyle',\n",
       " 'son said father asked procedure first goodman skin physical family',\n",
       " 'like flu germin medications jaller mri sesslar barker atit barclay',\n",
       " 'insurance staff kwant company later dollars toe cigna dental cover',\n",
       " \"pain see surgeon 've drug meds pills medicine medical knees\",\n",
       " 'dr. shakiba pasquale hollie dyer kolb rivadeneira kurtz comeau alison']"
      ]
     },
     "execution_count": 49,
     "metadata": {},
     "output_type": "execute_result"
    }
   ],
   "source": [
    "[\" \".join(i[1].split('\"')[1::2]) for i in p4]"
   ]
  },
  {
   "cell_type": "markdown",
   "metadata": {},
   "source": [
    "It's not really better than those with 10 topics, since \n",
    "    1. when the number of topic increases, time complexity for training and convergence increases;\n",
    "    2. the topic models are not really improved they are getting more noises than 10 topics."
   ]
  },
  {
   "cell_type": "code",
   "execution_count": 50,
   "metadata": {
    "scrolled": true
   },
   "outputs": [
    {
     "data": {
      "text/html": [
       "<div>\n",
       "<style scoped>\n",
       "    .dataframe tbody tr th:only-of-type {\n",
       "        vertical-align: middle;\n",
       "    }\n",
       "\n",
       "    .dataframe tbody tr th {\n",
       "        vertical-align: top;\n",
       "    }\n",
       "\n",
       "    .dataframe thead th {\n",
       "        text-align: right;\n",
       "    }\n",
       "</style>\n",
       "<table border=\"1\" class=\"dataframe\">\n",
       "  <thead>\n",
       "    <tr style=\"text-align: right;\">\n",
       "      <th></th>\n",
       "      <th>name</th>\n",
       "      <th>gender</th>\n",
       "      <th>location</th>\n",
       "      <th>special</th>\n",
       "      <th>rating</th>\n",
       "      <th>review</th>\n",
       "      <th>length</th>\n",
       "      <th>sentiment</th>\n",
       "    </tr>\n",
       "  </thead>\n",
       "  <tbody>\n",
       "    <tr>\n",
       "      <th>0</th>\n",
       "      <td>Dr. Roger Bigelow</td>\n",
       "      <td>Male</td>\n",
       "      <td>Warren, MI</td>\n",
       "      <td>Surgeon (general)</td>\n",
       "      <td>5.00</td>\n",
       "      <td>Dr. Bigelow is the best Dr. I have ever encoun...</td>\n",
       "      <td>52</td>\n",
       "      <td>True</td>\n",
       "    </tr>\n",
       "    <tr>\n",
       "      <th>1</th>\n",
       "      <td>Dr. Freda L. Dreher</td>\n",
       "      <td>Female</td>\n",
       "      <td>Lebanon, NH</td>\n",
       "      <td>Orthopedic Surgeon</td>\n",
       "      <td>5.00</td>\n",
       "      <td>Dr. Dreher always spends a LOT of time with me...</td>\n",
       "      <td>22</td>\n",
       "      <td>True</td>\n",
       "    </tr>\n",
       "    <tr>\n",
       "      <th>2</th>\n",
       "      <td>Dr. Audrey Konow</td>\n",
       "      <td>Female</td>\n",
       "      <td>Placentia, CA</td>\n",
       "      <td>Internist / Geriatrician</td>\n",
       "      <td>1.75</td>\n",
       "      <td>Almighty dollar and her personal time seems va...</td>\n",
       "      <td>54</td>\n",
       "      <td>False</td>\n",
       "    </tr>\n",
       "    <tr>\n",
       "      <th>3</th>\n",
       "      <td>Dr. Audrey Konow</td>\n",
       "      <td>Female</td>\n",
       "      <td>Placentia, CA</td>\n",
       "      <td>Internist / Geriatrician</td>\n",
       "      <td>5.00</td>\n",
       "      <td>The office is beautiful and the doctor did eve...</td>\n",
       "      <td>14</td>\n",
       "      <td>True</td>\n",
       "    </tr>\n",
       "    <tr>\n",
       "      <th>4</th>\n",
       "      <td>Dr. Thomas Dascoli</td>\n",
       "      <td>Male</td>\n",
       "      <td>Indianapolis, IN</td>\n",
       "      <td>Family Doctor / G.P.</td>\n",
       "      <td>5.00</td>\n",
       "      <td>I was having some odd symptoms and had struggl...</td>\n",
       "      <td>143</td>\n",
       "      <td>True</td>\n",
       "    </tr>\n",
       "  </tbody>\n",
       "</table>\n",
       "</div>"
      ],
      "text/plain": [
       "                  name  gender          location                   special  \\\n",
       "0    Dr. Roger Bigelow    Male        Warren, MI         Surgeon (general)   \n",
       "1  Dr. Freda L. Dreher  Female       Lebanon, NH        Orthopedic Surgeon   \n",
       "2     Dr. Audrey Konow  Female     Placentia, CA  Internist / Geriatrician   \n",
       "3     Dr. Audrey Konow  Female     Placentia, CA  Internist / Geriatrician   \n",
       "4   Dr. Thomas Dascoli    Male  Indianapolis, IN      Family Doctor / G.P.   \n",
       "\n",
       "   rating                                             review  length  \\\n",
       "0    5.00  Dr. Bigelow is the best Dr. I have ever encoun...      52   \n",
       "1    5.00  Dr. Dreher always spends a LOT of time with me...      22   \n",
       "2    1.75  Almighty dollar and her personal time seems va...      54   \n",
       "3    5.00  The office is beautiful and the doctor did eve...      14   \n",
       "4    5.00  I was having some odd symptoms and had struggl...     143   \n",
       "\n",
       "   sentiment  \n",
       "0       True  \n",
       "1       True  \n",
       "2      False  \n",
       "3       True  \n",
       "4       True  "
      ]
     },
     "execution_count": 50,
     "metadata": {},
     "output_type": "execute_result"
    }
   ],
   "source": [
    "data.head()"
   ]
  },
  {
   "cell_type": "code",
   "execution_count": 51,
   "metadata": {},
   "outputs": [],
   "source": [
    "doc_list = [i for i in list(data.review) if len(i.strip())!=0]\n",
    "lemmatizer = WordNetLemmatizer()\n",
    "corpus_clean = [clean_lm(doc.strip()) for doc in doc_list]"
   ]
  },
  {
   "cell_type": "markdown",
   "metadata": {},
   "source": [
    "Further, split each collection in two subcollections on the sentiment dimension: C1.1 (positive reviews about female doctors) and C1.2 (negative reviews about female doctors), etc."
   ]
  },
  {
   "cell_type": "code",
   "execution_count": 61,
   "metadata": {
    "scrolled": false
   },
   "outputs": [
    {
     "name": "stderr",
     "output_type": "stream",
     "text": [
      "/usr/local/lib/python3.5/dist-packages/ipykernel_launcher.py:1: UserWarning: Boolean Series key will be reindexed to match DataFrame index.\n",
      "  \"\"\"Entry point for launching an IPython kernel.\n",
      "/usr/local/lib/python3.5/dist-packages/ipykernel_launcher.py:2: UserWarning: Boolean Series key will be reindexed to match DataFrame index.\n",
      "  \n",
      "/usr/local/lib/python3.5/dist-packages/ipykernel_launcher.py:3: UserWarning: Boolean Series key will be reindexed to match DataFrame index.\n",
      "  This is separate from the ipykernel package so we can avoid doing imports until\n",
      "/usr/local/lib/python3.5/dist-packages/ipykernel_launcher.py:4: UserWarning: Boolean Series key will be reindexed to match DataFrame index.\n",
      "  after removing the cwd from sys.path.\n"
     ]
    }
   ],
   "source": [
    "c11 = list(data[data.gender==\"Female\"][data.sentiment == True].review)\n",
    "c12 = list(data[data.gender==\"Female\"][data.sentiment == False].review)\n",
    "c21 = list(data[data.gender==\"Male\"][data.sentiment == True].review)\n",
    "c22 = list(data[data.gender==\"Male\"][data.sentiment == False].review)"
   ]
  },
  {
   "cell_type": "code",
   "execution_count": 66,
   "metadata": {},
   "outputs": [],
   "source": [
    "def output_clean(topic_num, doc_list):\n",
    "    doc_list = [i for i in list(doc_list) if len(i.strip())!=0]\n",
    "    lemmatizer = WordNetLemmatizer()\n",
    "    corpus_clean = [clean_lm(doc.strip()) for doc in doc_list]\n",
    "    cc = [\" \".join([str(topic_num)] + i) for i in corpus_clean]\n",
    "    return (\"\\n\".join(cc))"
   ]
  },
  {
   "cell_type": "code",
   "execution_count": 72,
   "metadata": {
    "scrolled": true
   },
   "outputs": [],
   "source": [
    "with open(\"corpus_clean.txt\",'w') as c:\n",
    "    content = \"\\n\".join([output_clean(0,c11),output_clean(1,c12),output_clean(2,c21),output_clean(3,c22)])\n",
    "    c.write(content)"
   ]
  },
  {
   "cell_type": "markdown",
   "metadata": {},
   "source": [
    "next step we run these commands:\n",
    "\n",
    "javac LearnTopicModel.java\n",
    "\n",
    "java LearnTopicModel -model cclda -input corpus_clean.txt -iters 2000 -Z 10\n",
    "\n",
    "python2 topwords_cclda.py corpus_clean.txt.assign > out.txt"
   ]
  },
  {
   "cell_type": "raw",
   "metadata": {},
   "source": [
    "since the result is too large so I don't paste it here, please refer to out.txt for details."
   ]
  },
  {
   "cell_type": "raw",
   "metadata": {},
   "source": [
    "cclda is running slower than lda, this might be bacause that cclda is using hierarchechal Bayes framework so it brings more calculation to be done. \n",
    "topic 1: appointment; office,appointment,get,see,wait,call,time,room,staff,minutes\n",
    "topic 2: blood; n't,went,could,told,would,blood,doctor,see,got,took \n",
    "topic 3: insurance; n't,get,insurance,want,would,know,even,like,people,doctor\n",
    "topic 4: question; dr.,time,patients,doctor,patient,questions,care,listen,always,good\n",
    "topic 5: recommendation; dr.,staff,doctor,would,recommend,manner,office,bedside,great,anyone\n",
    "topic 6: results; dr.,would,went,n't,one,work,look,could,results,done \n",
    "topic 7: (noisy this one): doctor,dr.,ever,one,doctors,care,patients,life,many,years\n",
    "topic 8: feelings; dr.,like,feel,n't,made,never,would,first,felt,even\n",
    "topic 9: surgery; surgery,pain,dr.,back,would,went,hospital,months,surgeon,another\n",
    "topic 10: prescription; dr.,medical,treatment,patient,health,physician,diagnosis,condition,care,issues,without"
   ]
  },
  {
   "cell_type": "raw",
   "metadata": {},
   "source": [
    "one of those topics is noisy, while the rest are good. the result is generally way better than lda. "
   ]
  }
 ],
 "metadata": {
  "kernelspec": {
   "display_name": "Python 3",
   "language": "python",
   "name": "python3"
  },
  "language_info": {
   "codemirror_mode": {
    "name": "ipython",
    "version": 3
   },
   "file_extension": ".py",
   "mimetype": "text/x-python",
   "name": "python",
   "nbconvert_exporter": "python",
   "pygments_lexer": "ipython3",
   "version": "3.5.2"
  }
 },
 "nbformat": 4,
 "nbformat_minor": 2
}

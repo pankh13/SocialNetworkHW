{
 "cells": [
  {
   "cell_type": "code",
   "execution_count": 1,
   "metadata": {},
   "outputs": [],
   "source": [
    "import re"
   ]
  },
  {
   "cell_type": "code",
   "execution_count": 2,
   "metadata": {
    "scrolled": true
   },
   "outputs": [
    {
     "name": "stdout",
     "output_type": "stream",
     "text": [
      "491611\n"
     ]
    }
   ],
   "source": [
    "with open('LangId.train.French', 'r', encoding='UTF-8', errors='ignore') as f:\n",
    "    data_french = f.read()\n",
    "    print(len(data_french))\n"
   ]
  },
  {
   "cell_type": "code",
   "execution_count": 3,
   "metadata": {},
   "outputs": [
    {
     "name": "stdout",
     "output_type": "stream",
     "text": [
      "491892\n"
     ]
    }
   ],
   "source": [
    "with open('LangId.train.Italian', 'r', encoding='UTF-8', errors='ignore') as f:\n",
    "    data_italian = f.read()\n",
    "    print(len(data_italian))\n"
   ]
  },
  {
   "cell_type": "code",
   "execution_count": 4,
   "metadata": {},
   "outputs": [
    {
     "name": "stdout",
     "output_type": "stream",
     "text": [
      "452144\n"
     ]
    }
   ],
   "source": [
    "with open('LangId.train.English', 'r', encoding='UTF-8', errors='ignore') as f:\n",
    "    data_english = f.read()\n",
    "    print(len(data_english))\n"
   ]
  },
  {
   "cell_type": "markdown",
   "metadata": {},
   "source": [
    "## Problem 2: generate word based ngram"
   ]
  },
  {
   "cell_type": "code",
   "execution_count": 5,
   "metadata": {},
   "outputs": [],
   "source": [
    "import collections\n",
    "from itertools import product\n",
    "from string import ascii_lowercase\n",
    "\n",
    "def get_letter_ngram(data,n):\n",
    "    clean_sentence = [\" \".join(re.findall(\"[a-zA-Z]+\", i)) for i in data.strip().lower().split(\"\\n\")]\n",
    "    clean_data = \"</s> \" + \" </s> \".join(clean_sentence) + \" </s>\"\n",
    "    \n",
    "    ngram = dict(collections.Counter([i + \" \" + j for (i,j) in \\\n",
    "                                      zip(clean_data.split(\" \")[:-1],clean_data.split(\" \")[1:])]))\n",
    "    \n",
    "    word_count = dict(collections.Counter(clean_data.split(\" \")))\n",
    "\n",
    "    return ngram, word_count"
   ]
  },
  {
   "cell_type": "code",
   "execution_count": 6,
   "metadata": {
    "scrolled": true
   },
   "outputs": [],
   "source": [
    "english_ngram, english_dict  = get_letter_ngram(data_english,2)"
   ]
  },
  {
   "cell_type": "code",
   "execution_count": 7,
   "metadata": {
    "scrolled": false
   },
   "outputs": [],
   "source": [
    "italian_ngram, italian_dict = get_letter_ngram(data_italian,2)"
   ]
  },
  {
   "cell_type": "code",
   "execution_count": 8,
   "metadata": {},
   "outputs": [],
   "source": [
    "french_ngram, french_dict = get_letter_ngram(data_french,2)"
   ]
  },
  {
   "cell_type": "code",
   "execution_count": 9,
   "metadata": {},
   "outputs": [],
   "source": [
    "ngram_dict = {\"English\":english_ngram, \"Italian\":italian_ngram, \"French\":french_ngram}\n",
    "word_dict = {\"English\":english_dict, \"Italian\":italian_dict, \"French\":french_dict}"
   ]
  },
  {
   "cell_type": "code",
   "execution_count": 10,
   "metadata": {},
   "outputs": [],
   "source": [
    "with open('LangId.test', 'r', encoding='UTF-8', errors='ignore') as f:\n",
    "    data_test= f.read()"
   ]
  },
  {
   "cell_type": "code",
   "execution_count": 11,
   "metadata": {},
   "outputs": [],
   "source": [
    "import numpy as np\n",
    "\n",
    "def assign_letter_ngram(data,n,ngram_dict):\n",
    "    result = []\n",
    "    for index, sentence in enumerate(data_test.strip().split(\"\\n\")):\n",
    "        sentence = (\"</s> \" + \" \".join(re.findall(\"[a-zA-Z]+\", sentence.lower())) + \" </s>\").split(\" \")\n",
    "        p = {i:1 for i in ngram_dict.keys()}\n",
    "        for language in ngram_dict.keys():\n",
    "            for i in range(0,len(sentence)- n + 1):\n",
    "                cww = ngram_dict[language][\" \".join(sentence[i:i+n])] if \" \".join(sentence[i:i+n]) in ngram_dict[language] else 0\n",
    "                cw = word_dict[language][sentence[i]] if sentence[i] in word_dict[language].keys() else 0\n",
    "                p[language] += np.log( (cww+1) / (len(ngram_dict[language]) + cw))\n",
    "        result.append(str(index+1) + \" \" + max(p, key = p.get))\n",
    "    with open(\"wordLangId.out\",\"w\") as f:\n",
    "        f.write(\"\\n\".join(result))\n",
    "    return result"
   ]
  },
  {
   "cell_type": "code",
   "execution_count": 12,
   "metadata": {
    "scrolled": true
   },
   "outputs": [],
   "source": [
    "result = assign_letter_ngram(data_test,2,ngram_dict)"
   ]
  },
  {
   "cell_type": "code",
   "execution_count": 13,
   "metadata": {},
   "outputs": [
    {
     "data": {
      "text/html": [
       "<div>\n",
       "<style scoped>\n",
       "    .dataframe tbody tr th:only-of-type {\n",
       "        vertical-align: middle;\n",
       "    }\n",
       "\n",
       "    .dataframe tbody tr th {\n",
       "        vertical-align: top;\n",
       "    }\n",
       "\n",
       "    .dataframe thead th {\n",
       "        text-align: right;\n",
       "    }\n",
       "</style>\n",
       "<table border=\"1\" class=\"dataframe\">\n",
       "  <thead>\n",
       "    <tr style=\"text-align: right;\">\n",
       "      <th></th>\n",
       "      <th>predicted_Italian</th>\n",
       "      <th>predicted_French</th>\n",
       "      <th>predicted_English</th>\n",
       "    </tr>\n",
       "  </thead>\n",
       "  <tbody>\n",
       "    <tr>\n",
       "      <th>true_Italian</th>\n",
       "      <td>100</td>\n",
       "      <td>0</td>\n",
       "      <td>0</td>\n",
       "    </tr>\n",
       "    <tr>\n",
       "      <th>true_French</th>\n",
       "      <td>0</td>\n",
       "      <td>100</td>\n",
       "      <td>0</td>\n",
       "    </tr>\n",
       "    <tr>\n",
       "      <th>true_English</th>\n",
       "      <td>0</td>\n",
       "      <td>0</td>\n",
       "      <td>100</td>\n",
       "    </tr>\n",
       "  </tbody>\n",
       "</table>\n",
       "</div>"
      ],
      "text/plain": [
       "              predicted_Italian  predicted_French  predicted_English\n",
       "true_Italian                100                 0                  0\n",
       "true_French                   0               100                  0\n",
       "true_English                  0                 0                100"
      ]
     },
     "execution_count": 13,
     "metadata": {},
     "output_type": "execute_result"
    }
   ],
   "source": [
    "with open('LangId.sol', 'r', encoding='UTF-8', errors='ignore') as f:\n",
    "    solution = f.read()\n",
    "    \n",
    "import pandas as pd\n",
    "def check_solution(output, solution):\n",
    "    col = [\"predicted_\" + i for i in ngram_dict.keys()]\n",
    "    index = [\"true_\" + i for i in ngram_dict.keys()]\n",
    "    compare = pd.DataFrame(columns=col,index=index)\n",
    "    compare = compare.fillna(0)\n",
    "    for i in range(len(output)):\n",
    "        compare.at[\"true_\" + solution[i].split(\" \")[1], \"predicted_\" + output[i].split(\" \")[1]] += 1\n",
    "    return compare\n",
    "\n",
    "check_solution(result, solution.strip().split(\"\\n\"))"
   ]
  }
 ],
 "metadata": {
  "kernelspec": {
   "display_name": "Python 3",
   "language": "python",
   "name": "python3"
  },
  "language_info": {
   "codemirror_mode": {
    "name": "ipython",
    "version": 3
   },
   "file_extension": ".py",
   "mimetype": "text/x-python",
   "name": "python",
   "nbconvert_exporter": "python",
   "pygments_lexer": "ipython3",
   "version": "3.5.2"
  }
 },
 "nbformat": 4,
 "nbformat_minor": 2
}

{
 "cells": [
  {
   "cell_type": "code",
   "execution_count": 1,
   "metadata": {},
   "outputs": [],
   "source": [
    "import re"
   ]
  },
  {
   "cell_type": "code",
   "execution_count": 2,
   "metadata": {
    "scrolled": true
   },
   "outputs": [
    {
     "name": "stdout",
     "output_type": "stream",
     "text": [
      "491611\n"
     ]
    }
   ],
   "source": [
    "with open('LangId.train.French', 'r', encoding='UTF-8', errors='ignore') as f:\n",
    "    data_french = f.read()\n",
    "    print(len(data_french))\n"
   ]
  },
  {
   "cell_type": "code",
   "execution_count": 3,
   "metadata": {},
   "outputs": [
    {
     "name": "stdout",
     "output_type": "stream",
     "text": [
      "491892\n"
     ]
    }
   ],
   "source": [
    "with open('LangId.train.Italian', 'r', encoding='UTF-8', errors='ignore') as f:\n",
    "    data_italian = f.read()\n",
    "    print(len(data_italian))\n"
   ]
  },
  {
   "cell_type": "code",
   "execution_count": 4,
   "metadata": {},
   "outputs": [
    {
     "name": "stdout",
     "output_type": "stream",
     "text": [
      "452144\n"
     ]
    }
   ],
   "source": [
    "with open('LangId.train.English', 'r', encoding='UTF-8', errors='ignore') as f:\n",
    "    data_english = f.read()\n",
    "    print(len(data_english))\n"
   ]
  },
  {
   "cell_type": "markdown",
   "metadata": {},
   "source": [
    "## Problem 1: generate letter based ngram"
   ]
  },
  {
   "cell_type": "code",
   "execution_count": 5,
   "metadata": {},
   "outputs": [],
   "source": [
    "data = data_english\n",
    "n=2"
   ]
  },
  {
   "cell_type": "code",
   "execution_count": 6,
   "metadata": {},
   "outputs": [],
   "source": [
    "clean_data = \" \" + \" \".join(re.findall(\"[a-zA-Z]+\", data.lower())) + \" \""
   ]
  },
  {
   "cell_type": "code",
   "execution_count": 7,
   "metadata": {},
   "outputs": [],
   "source": [
    "from itertools import product\n",
    "from string import ascii_lowercase\n",
    "keywords = [''.join(i) for i in product(ascii_lowercase+\" \", repeat = n)]"
   ]
  },
  {
   "cell_type": "code",
   "execution_count": 8,
   "metadata": {
    "scrolled": false
   },
   "outputs": [],
   "source": [
    "# I have to admit my coding here is really elegant\n",
    "ngram  =  dict.fromkeys(keywords, 0)\n",
    "\n",
    "for i in range(0, len(clean_data)-1):\n",
    "    ngram[clean_data[i:i+2]] += 1\n",
    "    \n",
    "import collections\n",
    "\n",
    "letter_count = collections.Counter(clean_data)\n",
    "\n",
    "ngram = {i : ngram[i]/letter_count[i[0]] for i in ngram}"
   ]
  },
  {
   "cell_type": "code",
   "execution_count": 9,
   "metadata": {
    "scrolled": true
   },
   "outputs": [
    {
     "data": {
      "text/plain": [
       "211"
      ]
     },
     "execution_count": 9,
     "metadata": {},
     "output_type": "execute_result"
    }
   ],
   "source": [
    "len([i for i in ngram if ngram[i] == 0])"
   ]
  },
  {
   "cell_type": "code",
   "execution_count": 10,
   "metadata": {
    "scrolled": true
   },
   "outputs": [
    {
     "data": {
      "text/plain": [
       "729"
      ]
     },
     "execution_count": 10,
     "metadata": {},
     "output_type": "execute_result"
    }
   ],
   "source": [
    "len(ngram)"
   ]
  },
  {
   "cell_type": "code",
   "execution_count": 11,
   "metadata": {
    "scrolled": false
   },
   "outputs": [
    {
     "data": {
      "text/plain": [
       "2.7976723366159355e-05"
      ]
     },
     "execution_count": 11,
     "metadata": {},
     "output_type": "execute_result"
    }
   ],
   "source": [
    "min([ngram[i] for i in ngram if ngram[i] != 0])"
   ]
  },
  {
   "cell_type": "code",
   "execution_count": 12,
   "metadata": {},
   "outputs": [],
   "source": [
    "import matplotlib as plt\n",
    "%matplotlib inline\n",
    "import seaborn as sns"
   ]
  },
  {
   "cell_type": "code",
   "execution_count": 13,
   "metadata": {
    "scrolled": false
   },
   "outputs": [
    {
     "data": {
      "text/plain": [
       "<matplotlib.axes._subplots.AxesSubplot at 0x7fadb74cb400>"
      ]
     },
     "execution_count": 13,
     "metadata": {},
     "output_type": "execute_result"
    },
    {
     "data": {
      "image/png": "[encoded data removed]",
      "text/plain": [
       "<matplotlib.figure.Figure at 0x7fadec3be048>"
      ]
     },
     "metadata": {},
     "output_type": "display_data"
    }
   ],
   "source": [
    "sns.set()\n",
    "sns.distplot(list(ngram.values()))"
   ]
  },
  {
   "cell_type": "markdown",
   "metadata": {},
   "source": [
    "I dont think we need smoothing because letter combinations are easily covered. This distribution also makes sense. only 211/729 didn't occur in the ngram model. \n",
    "\n",
    "Based on the observations we can define the function."
   ]
  },
  {
   "cell_type": "code",
   "execution_count": 14,
   "metadata": {},
   "outputs": [],
   "source": [
    "from itertools import product\n",
    "from string import ascii_lowercase\n",
    "import collections\n",
    "\n",
    "def get_letter_ngram(data,n):\n",
    "    clean_data = \" \" + \" \".join(re.findall(\"[a-zA-Z]+\", data.lower())) + \" \"\n",
    "    keywords = [''.join(i) for i in product(ascii_lowercase+\" \", repeat = n)]\n",
    "    ngram  =  dict.fromkeys(keywords, 0)\n",
    "\n",
    "    for i in range(0, len(clean_data)-1):\n",
    "        ngram[clean_data[i:i+2]] += 1\n",
    "        \n",
    "    letter_count = collections.Counter(clean_data)\n",
    "\n",
    "    return {i : ngram[i]/letter_count[i[0]] for i in ngram}"
   ]
  },
  {
   "cell_type": "code",
   "execution_count": 15,
   "metadata": {},
   "outputs": [],
   "source": [
    "english_ngram = get_letter_ngram(data_english,2)\n",
    "italian_ngram = get_letter_ngram(data_italian,2)\n",
    "french_ngram = get_letter_ngram(data_french,2)"
   ]
  },
  {
   "cell_type": "code",
   "execution_count": 16,
   "metadata": {},
   "outputs": [],
   "source": [
    "ngram_dict = {\"English\":english_ngram, \"Italian\":italian_ngram, \"French\":french_ngram}"
   ]
  },
  {
   "cell_type": "markdown",
   "metadata": {},
   "source": [
    "lets do the prediction code now"
   ]
  },
  {
   "cell_type": "code",
   "execution_count": 17,
   "metadata": {
    "scrolled": false
   },
   "outputs": [],
   "source": [
    "with open('LangId.test', 'r', encoding='UTF-8', errors='ignore') as f:\n",
    "    data_test= f.read()"
   ]
  },
  {
   "cell_type": "code",
   "execution_count": 18,
   "metadata": {},
   "outputs": [],
   "source": [
    "def assign_letter_ngram(data,n,ngram_dict):\n",
    "    result = []\n",
    "    for index, sentence in enumerate(data_test.strip().split(\"\\n\")):\n",
    "        sentence = \" \" + \" \".join(re.findall(\"[a-zA-Z]+\", sentence.lower())) + \" \"\n",
    "        p = {i:1 for i in ngram_dict.keys()}\n",
    "        for language in ngram_dict.keys():\n",
    "            for i in range(0,len(sentence)- n + 1):\n",
    "                p[language] *= ngram_dict[language][sentence[i:i+n]]\n",
    "        result.append(str(index+1) + \" \" + max(p, key = p.get))\n",
    "    with open(\"letterLangId.out\",\"w\") as f:\n",
    "        f.write(\"\\n\".join(result))\n",
    "    return result"
   ]
  },
  {
   "cell_type": "code",
   "execution_count": 19,
   "metadata": {},
   "outputs": [],
   "source": [
    "result = assign_letter_ngram(data_test,2,ngram_dict)"
   ]
  },
  {
   "cell_type": "code",
   "execution_count": 20,
   "metadata": {
    "scrolled": false
   },
   "outputs": [],
   "source": [
    "with open('LangId.sol', 'r', encoding='UTF-8', errors='ignore') as f:\n",
    "    solution = f.read()"
   ]
  },
  {
   "cell_type": "code",
   "execution_count": 21,
   "metadata": {},
   "outputs": [],
   "source": [
    "import pandas as pd\n",
    "def check_solution(output, solution):\n",
    "    col = [\"predicted_\" + i for i in ngram_dict.keys()]\n",
    "    index = [\"true_\" + i for i in ngram_dict.keys()]\n",
    "    compare = pd.DataFrame(columns=col,index=index)\n",
    "    compare = compare.fillna(0)\n",
    "    for i in range(len(output)):\n",
    "        compare.at[\"true_\" + solution[i].split(\" \")[1], \"predicted_\" + output[i].split(\" \")[1]] += 1\n",
    "    return compare"
   ]
  },
  {
   "cell_type": "code",
   "execution_count": 22,
   "metadata": {},
   "outputs": [
    {
     "data": {
      "text/html": [
       "<div>\n",
       "<style scoped>\n",
       "    .dataframe tbody tr th:only-of-type {\n",
       "        vertical-align: middle;\n",
       "    }\n",
       "\n",
       "    .dataframe tbody tr th {\n",
       "        vertical-align: top;\n",
       "    }\n",
       "\n",
       "    .dataframe thead th {\n",
       "        text-align: right;\n",
       "    }\n",
       "</style>\n",
       "<table border=\"1\" class=\"dataframe\">\n",
       "  <thead>\n",
       "    <tr style=\"text-align: right;\">\n",
       "      <th></th>\n",
       "      <th>predicted_Italian</th>\n",
       "      <th>predicted_English</th>\n",
       "      <th>predicted_French</th>\n",
       "    </tr>\n",
       "  </thead>\n",
       "  <tbody>\n",
       "    <tr>\n",
       "      <th>true_Italian</th>\n",
       "      <td>97</td>\n",
       "      <td>0</td>\n",
       "      <td>3</td>\n",
       "    </tr>\n",
       "    <tr>\n",
       "      <th>true_English</th>\n",
       "      <td>9</td>\n",
       "      <td>91</td>\n",
       "      <td>0</td>\n",
       "    </tr>\n",
       "    <tr>\n",
       "      <th>true_French</th>\n",
       "      <td>14</td>\n",
       "      <td>1</td>\n",
       "      <td>85</td>\n",
       "    </tr>\n",
       "  </tbody>\n",
       "</table>\n",
       "</div>"
      ],
      "text/plain": [
       "              predicted_Italian  predicted_English  predicted_French\n",
       "true_Italian                 97                  0                 3\n",
       "true_English                  9                 91                 0\n",
       "true_French                  14                  1                85"
      ]
     },
     "execution_count": 22,
     "metadata": {},
     "output_type": "execute_result"
    }
   ],
   "source": [
    "check_solution(result, solution.strip().split(\"\\n\"))"
   ]
  }
 ],
 "metadata": {
  "kernelspec": {
   "display_name": "Python 3",
   "language": "python",
   "name": "python3"
  },
  "language_info": {
   "codemirror_mode": {
    "name": "ipython",
    "version": 3
   },
   "file_extension": ".py",
   "mimetype": "text/x-python",
   "name": "python",
   "nbconvert_exporter": "python",
   "pygments_lexer": "ipython3",
   "version": "3.5.2"
  }
 },
 "nbformat": 4,
 "nbformat_minor": 2
}

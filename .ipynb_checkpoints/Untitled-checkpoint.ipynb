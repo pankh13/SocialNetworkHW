{
 "cells": [
  {
   "cell_type": "code",
   "execution_count": 2,
   "metadata": {},
   "outputs": [],
   "source": [
    "import re\n",
    "import requests\n",
    "from bs4 import BeautifulSoup"
   ]
  },
  {
   "cell_type": "code",
   "execution_count": 3,
   "metadata": {},
   "outputs": [],
   "source": [
    "import dateparser"
   ]
  },
  {
   "cell_type": "code",
   "execution_count": 4,
   "metadata": {},
   "outputs": [],
   "source": [
    "text=\"\"\"\n",
    "Hurricane Michael May Hit Florida as Category 3 Storm\n",
    "\n",
    "(an adaptation of the New York Times article with the same title, Oct. 8, 2018)\n",
    "\n",
    "ATLANTA — Hurricane Michael strengthened and sharpened its track toward the Florida Panhandle on Monday, imperiling a vast stretch of the state that must cope with the threat of a suddenly menacing storm.\n",
    "\n",
    "The risks posed by the hurricane extended hundreds of miles inland, and it was poised to bombard parts of the South and Mid-Atlantic as a tropical storm, endangering regions still recovering from Hurricane Florence’s deluge last month.\n",
    "\n",
    "The National Hurricane Center said Michael could make landfall again on Wednesday, Oct. 11th as a Category 3 hurricane, with sustained winds of at least 111 miles per hour. If the forecast holds, Michael would be the strongest hurricane to make landfall in the mainland United States so far.\n",
    "\n",
    "“Michael can still change direction and impact any part of the state,” said Mr. Scott, who warned that some areas could receive up to a foot of rain, and that destructive winds were likely to hit both along the coast, in places like Panama City, and inland, including Tallahassee, the capital. Local officials ordered evacuations from some communities ahead of the storm, which is expected to bring tropical storm-force winds to the state beginning as soon as Tuesday.\n",
    "\n",
    "Unlike Hurricane Florence, which slowly approached the Carolinas from the Atlantic Ocean and then meandered for days, Hurricane Michael offered little time for preparation. When Mr. Scott spoke, on Monday 8a.m., the system was a tropical storm, though one forecast to strengthen. A bit later, the hurricane center upgraded it to a Category 1 hurricane and anticipated a Category 3 strike on Wednesday.\n",
    "\n",
    "On Monday afternoon, the hurricane center said the storm was about 520 miles south of Apalachicola, Fla., with maximum sustained winds of 80 miles per hour, just above the threshold to be classified as a hurricane. The storm was moving north at nine miles per hour, leading to watches and warnings in Cuba, Mexico and the United States.\n",
    "\n",
    "Florida State University said it would close Tuesday, Oct. 2018 and did not expect to resume normal operations. (The university’s football team, which plays in a stadium that seats close to 80,000 people, does have another home game on October 20th.)\n",
    "\n",
    "“Please evacuate to Leon County,” the sheriff’s office said on 10/10/2018. It will be very bad, he said — similar in some ways to Christmas Day, when most places close and lots of people could not get out of town. \n",
    "\n",
    "\"\"\""
   ]
  },
  {
   "cell_type": "code",
   "execution_count": 24,
   "metadata": {},
   "outputs": [],
   "source": [
    "month_list = ['Jar', 'Feb', 'Mar', 'Apr', 'May', 'Jun', 'Jul', 'Aug', 'Sep', 'Oct', 'Nov', 'Dec']\n",
    "weekday_list = ['Monday','Tuesday','Wednesday','Thursday','Friday','Saturday','Sunday']\n",
    "daytime_list = ['morning','afternoon','evening','night']\n",
    "\n",
    "year = '\\d{4}'\n",
    "dmy_sr = '\\d+/\\d+/[1-9]\\d{3}'\n",
    "year_str = '[\\./,] \\d{4}'\n",
    "time_str = '\\d+[a/p]\\.m\\.'\n",
    "date_str = '\\d+th'"
   ]
  },
  {
   "cell_type": "code",
   "execution_count": 6,
   "metadata": {},
   "outputs": [],
   "source": [
    "# in this part lets extract the holidays' names from the website\n",
    "page = requests.get(\"https://www.redcort.com/us-federal-bank-holidays/\")\n",
    "soup = BeautifulSoup(page.content,'lxml')\n",
    "holiday_list=[i.text for i in soup.find_all(\"div\",{'id':'odd'})[0].find_all(\"div\",\"small-8\")[1:]]"
   ]
  },
  {
   "cell_type": "code",
   "execution_count": 25,
   "metadata": {},
   "outputs": [],
   "source": [
    "starter_list = month_list + weekday_list + daytime_list + holiday_list +[year, dmy_sr]\n",
    "ender_list = starter_list + [year_str, time_str, date_str]"
   ]
  },
  {
   "cell_type": "code",
   "execution_count": 8,
   "metadata": {
    "scrolled": true
   },
   "outputs": [
    {
     "data": {
      "text/plain": [
       "32"
      ]
     },
     "execution_count": 8,
     "metadata": {},
     "output_type": "execute_result"
    }
   ],
   "source": [
    "# longest possible Wednesday, November 2018 12 a.m. \n",
    "len('Wednesday, November 2018 12 a.m.')\n",
    "# lets git it more for spare, say 40."
   ]
  },
  {
   "cell_type": "code",
   "execution_count": 1,
   "metadata": {},
   "outputs": [],
   "source": [
    "def parse_datetime(text):\n",
    "    cur = 0\n",
    "    result = []\n",
    "    while cur < len(text):\n",
    "        sub = text[cur:cur+40]\n",
    "        starter = min([re.search(r'^%s' % i, sub).span()[0] if re.search(r'^%s' % i, sub) else 40 for i in starter_list])\n",
    "        ender = max([re.search(r'%s' % i, sub).span()[1] if re.search(r'%s' % i, sub) else 0 for i in ender_list])\n",
    "        if ender > starter:\n",
    "            if '\\n' in sub[starter:ender]: \n",
    "                ender = min([re.search(r'%s' % i, sub).span()[1] if re.search(r'%s' % i, sub) else 40 for i in ender_list])\n",
    "            cur += ender + 1\n",
    "            result += [sub[starter:ender]]\n",
    "        else:\n",
    "            cur += 1\n",
    "    return result"
   ]
  },
  {
   "cell_type": "code",
   "execution_count": 27,
   "metadata": {
    "scrolled": true
   },
   "outputs": [
    {
     "data": {
      "text/plain": [
       "['May',\n",
       " 'Oct. 8, 2018',\n",
       " 'Monday',\n",
       " 'Wednesday, Oct. 11th',\n",
       " 'Tuesday',\n",
       " 'Monday 8a.m.',\n",
       " 'Wednesday',\n",
       " 'Monday afternoon',\n",
       " 'Tuesday, Oct. 2018',\n",
       " 'October 20th',\n",
       " '10/10/2018',\n",
       " 'Christmas Day']"
      ]
     },
     "execution_count": 27,
     "metadata": {},
     "output_type": "execute_result"
    }
   ],
   "source": [
    "result = parse_datetime(text)"
   ]
  },
  {
   "cell_type": "code",
   "execution_count": 20,
   "metadata": {
    "scrolled": true
   },
   "outputs": [
    {
     "data": {
      "text/plain": [
       "12"
      ]
     },
     "execution_count": 20,
     "metadata": {},
     "output_type": "execute_result"
    }
   ],
   "source": [
    "len(result)"
   ]
  },
  {
   "cell_type": "code",
   "execution_count": 30,
   "metadata": {
    "scrolled": true
   },
   "outputs": [
    {
     "data": {
      "text/plain": [
       "0.07971014492753623"
      ]
     },
     "execution_count": 30,
     "metadata": {},
     "output_type": "execute_result"
    }
   ],
   "source": [
    "F = 2 * 1 * 11/12 / (11 + 12)\n",
    "F"
   ]
  },
  {
   "cell_type": "code",
   "execution_count": null,
   "metadata": {},
   "outputs": [],
   "source": []
  }
 ],
 "metadata": {
  "kernelspec": {
   "display_name": "Python 3",
   "language": "python",
   "name": "python3"
  },
  "language_info": {
   "codemirror_mode": {
    "name": "ipython",
    "version": 3
   },
   "file_extension": ".py",
   "mimetype": "text/x-python",
   "name": "python",
   "nbconvert_exporter": "python",
   "pygments_lexer": "ipython3",
   "version": "3.5.2"
  }
 },
 "nbformat": 4,
 "nbformat_minor": 2
}
